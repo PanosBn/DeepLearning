{
  "nbformat": 4,
  "nbformat_minor": 0,
  "metadata": {
    "accelerator": "GPU",
    "colab": {
      "name": "Workbook_2.ipynb",
      "provenance": [],
      "collapsed_sections": []
    },
    "kernelspec": {
      "display_name": "Python 3",
      "language": "python",
      "name": "python3"
    },
    "language_info": {
      "codemirror_mode": {
        "name": "ipython",
        "version": 3
      },
      "file_extension": ".py",
      "mimetype": "text/x-python",
      "name": "python",
      "nbconvert_exporter": "python",
      "pygments_lexer": "ipython3",
      "version": "3.7.9"
    }
  },
  "cells": [
    {
      "cell_type": "markdown",
      "metadata": {
        "id": "K9QEQC4RCp9C"
      },
      "source": [
        "Group 30:\n",
        "\n",
        "1.   Panagiotis Banos(1622773)\n",
        "2.   Ali Sanaei Namaghi (1579274)\n",
        "\n"
      ]
    },
    {
      "cell_type": "markdown",
      "metadata": {
        "id": "b7-y662f1PHV"
      },
      "source": [
        "# Preparation"
      ]
    },
    {
      "cell_type": "code",
      "metadata": {
        "id": "UfUkWhex5pLP"
      },
      "source": [
        "# Install PyTorch Geometric\n",
        "!pip install -q torch-scatter -f https://pytorch-geometric.com/whl/torch-1.8.0+cu101.html\n",
        "!pip install -q torch-sparse -f https://pytorch-geometric.com/whl/torch-1.8.0+cu101.html\n",
        "!pip install -q torch-geometric"
      ],
      "execution_count": 82,
      "outputs": []
    },
    {
      "cell_type": "code",
      "metadata": {
        "id": "-3iwORqz9BQJ"
      },
      "source": [
        "import torch\n",
        "import torch.nn.functional as F\n",
        "import requests\n",
        "import io\n",
        "import pickle\n",
        "import json\n",
        "import numpy as np\n",
        "\n",
        "def download(url, filetype='tensor'):\n",
        "    if filetype not in ['tensor', 'pickle', 'json']:\n",
        "        raise ValueError('Incorrect filetype')\n",
        "    response = requests.get(url)\n",
        "    response.raise_for_status()\n",
        "    if filetype == 'tensor':\n",
        "        return torch.load(io.BytesIO(response.content))\n",
        "    elif filetype == 'pickle':\n",
        "        return pickle.load(io.BytesIO(response.content))\n",
        "    elif filetype == 'json':\n",
        "        return json.load(io.BytesIO(response.content))"
      ],
      "execution_count": 83,
      "outputs": []
    },
    {
      "cell_type": "markdown",
      "metadata": {
        "id": "jtLMtRZa1Vjy"
      },
      "source": [
        "# Task 1"
      ]
    },
    {
      "cell_type": "code",
      "metadata": {
        "id": "3h2zBMkm1XpD"
      },
      "source": [
        "## Download the dataset for image retrieval ##\n",
        "data_1 = download('https://surfdrive.surf.nl/files/index.php/s/EH2tN7JiZnwdIXg/download', filetype='tensor')\n",
        "data_metadata = download('https://github.com/pmernyei/wiki-cs-dataset/raw/master/dataset/metadata.json', filetype='json')"
      ],
      "execution_count": 84,
      "outputs": []
    },
    {
      "cell_type": "code",
      "metadata": {
        "colab": {
          "base_uri": "https://localhost:8080/"
        },
        "id": "rwHKWhIF90JE",
        "outputId": "da97c0e1-d717-4b50-a367-6aa91180d3be"
      },
      "source": [
        "num_node = data_1.x.shape[0]\n",
        "num_edge = data_1.edge_index.shape[1]\n",
        "num_node_feature = data_1.x.shape[1]\n",
        "num_class = int(max(data_1.y)+1)\n",
        "num_label = sum(data_1.train_mask)\n",
        "\n",
        "num_test_labels = sum(data_1.test_mask)\n",
        "\n",
        "\n",
        "\n",
        "print(f'Num nodes: {num_node}')\n",
        "print(f'Num edges: {num_edge}')\n",
        "print()\n",
        "print(f'Num node features: {num_node_feature}')\n",
        "print(f'Num classes: {num_class}')\n",
        "print()\n",
        "print(f'Num training labels: {num_label}')\n",
        "print(f'Num test labels: {num_test_labels}')\n",
        "\n",
        "print(f'Average node degree: {num_edge / num_node:.2f}')\n",
        "print(f'Contains isolated nodes: {data_1.contains_isolated_nodes()}')\n",
        "print(f'Contains self-loops: {data_1.contains_self_loops()}')\n",
        "print(f'Is directed: {data_1.is_directed()}')\n"
      ],
      "execution_count": 85,
      "outputs": [
        {
          "output_type": "stream",
          "text": [
            "Num nodes: 10701\n",
            "Num edges: 251927\n",
            "\n",
            "Num node features: 300\n",
            "Num classes: 10\n",
            "\n",
            "Num training labels: 522\n",
            "Num test labels: 5348\n",
            "Average node degree: 23.54\n",
            "Contains isolated nodes: True\n",
            "Contains self-loops: True\n",
            "Is directed: True\n"
          ],
          "name": "stdout"
        }
      ]
    },
    {
      "cell_type": "code",
      "metadata": {
        "colab": {
          "base_uri": "https://localhost:8080/"
        },
        "id": "ZkCGKmY0CPh2",
        "outputId": "121c57a3-5e94-422c-e580-f6390edd4ccc"
      },
      "source": [
        "for i in range(num_class):\n",
        "    print('{}: {}'.format(i, data_metadata['labels'][str(i)]))"
      ],
      "execution_count": 86,
      "outputs": [
        {
          "output_type": "stream",
          "text": [
            "0: Computational linguistics\n",
            "1: Databases\n",
            "2: Operating systems\n",
            "3: Computer architecture\n",
            "4: Computer security\n",
            "5: Internet protocols\n",
            "6: Computer file systems\n",
            "7: Distributed computing architecture\n",
            "8: Web technology\n",
            "9: Programming language topics\n"
          ],
          "name": "stdout"
        }
      ]
    },
    {
      "cell_type": "code",
      "metadata": {
        "id": "7pDn_vdhCNPw"
      },
      "source": [
        "def print_node(idx, query_node = False, url=True, label=True):\n",
        "    node_info = data_metadata['nodes'][idx]\n",
        "    # print(node_info)\n",
        "    print(f'--Node {idx}--')\n",
        "    if url:\n",
        "        if query_node : print(\"*****Query Article*****\")\n",
        "        title = node_info['title']\n",
        "        wiki_url = 'https://en.wikipedia.org/wiki/' + title\n",
        "        print(wiki_url)\n",
        "    if label:\n",
        "        print('Label:', node_info['label'])\n",
        "    print()"
      ],
      "execution_count": 87,
      "outputs": []
    },
    {
      "cell_type": "code",
      "metadata": {
        "id": "vaX1qoFjU17f"
      },
      "source": [
        "node_labels = []\n",
        "for idx in range(num_node):\n",
        "  node = data_metadata['nodes'][idx]\n",
        "  label = node['label']\n",
        "  node_labels.append(label)\n"
      ],
      "execution_count": 88,
      "outputs": []
    },
    {
      "cell_type": "code",
      "metadata": {
        "colab": {
          "base_uri": "https://localhost:8080/"
        },
        "id": "hvCmB6tFCr4R",
        "outputId": "c4399c66-ee4e-44e5-aefa-1e7763057d4a"
      },
      "source": [
        "for i in range(5):\n",
        "    print_node(i)"
      ],
      "execution_count": 89,
      "outputs": [
        {
          "output_type": "stream",
          "text": [
            "--Node 0--\n",
            "https://en.wikipedia.org/wiki/Twilio\n",
            "Label: Distributed computing architecture\n",
            "\n",
            "--Node 1--\n",
            "https://en.wikipedia.org/wiki/Program_compatibility_date_range\n",
            "Label: Operating systems\n",
            "\n",
            "--Node 2--\n",
            "https://en.wikipedia.org/wiki/SYSTAT_(DEC)\n",
            "Label: Operating systems\n",
            "\n",
            "--Node 3--\n",
            "https://en.wikipedia.org/wiki/List_of_column-oriented_DBMSes\n",
            "Label: Databases\n",
            "\n",
            "--Node 4--\n",
            "https://en.wikipedia.org/wiki/Stealth_wallpaper\n",
            "Label: Computer security\n",
            "\n"
          ],
          "name": "stdout"
        }
      ]
    },
    {
      "cell_type": "code",
      "metadata": {
        "id": "iObxIpsBIaCg"
      },
      "source": [
        "from torch_geometric.nn import GCNConv, SAGEConv, GATConv, GraphConv, VGAE\n",
        "from torch.nn import Linear, Conv1d, LeakyReLU, BatchNorm1d\n",
        "import torch.nn.functional as F\n",
        "\n",
        "class GraphEmbeddingNetwork(torch.nn.Module):\n",
        "  def __init__(self, n_features, hidden_channels, linear_channels, output_channels, in_heads, out_heads, mode=\"retrieval\"):\n",
        "      super(GraphEmbeddingNetwork, self).__init__()\n",
        "      \n",
        "      self.in_heads = in_heads\n",
        "      self.out_heads = out_heads\n",
        "      self.mode = mode\n",
        "      \n",
        "      self.conv1 = GATConv(n_features, hidden_channels, heads=self.in_heads)\n",
        "      self.conv2 = GATConv(self.in_heads*hidden_channels, linear_channels, heads=self.out_heads)\n",
        "\n",
        "      #embedding layer \"a la\" Retrieval with Neural Codes\n",
        "      self.embeddingLayer = Linear(linear_channels, linear_channels)\n",
        "\n",
        "      #mu and sigma for task 2\n",
        "      self.mu = GATConv(linear_channels, output_channels, heads=self.out_heads)\n",
        "      self.log_sigma = GATConv (linear_channels, output_channels, heads=self.out_heads)\n",
        "\n",
        "\n",
        "      self.leaky_relu = LeakyReLU(negative_slope=0.01)\n",
        "      self.batch_norm1 = BatchNorm1d(self.in_heads*hidden_channels)\n",
        "      self.batch_norm2 = BatchNorm1d(self.out_heads*linear_channels)\n",
        "\n",
        "  def reparameterization(self, mu, log_sigma):\n",
        "        sigma = torch.exp(log_sigma)\n",
        "        epsilon = torch.rand_like(sigma).to(device)\n",
        "        z = mu + sigma * epsilon\n",
        "        return z\n",
        "\n",
        "  def forward(self, x, edge_index):\n",
        "   \n",
        "    if (self.mode == \"retrieval\"):\n",
        "        x = self.conv1(x, edge_index) # x = (2), update all nodes for the first time, returning (x_size, hidden_channels)\n",
        "        x = self.batch_norm1(x)\n",
        "        x = self.leaky_relu(x)  # activation function\n",
        "        x = F.dropout(x, p=0.7, training=self.training)  # attempt to combat overfitting, as we only have few labels\n",
        "\n",
        "        x = self.conv2(x, edge_index)  # x = (3), update all nodes again, returning (x_size, num_classes)\n",
        "                                        # this final update transforms each node embedding to a class prediction\n",
        "                                        # we do not apply an activation, as the PyTorch CCE calculation\n",
        "                                        # takes care of treating this output as 'softmax'.\n",
        "        x = self.batch_norm2(x)\n",
        "        x = self.leaky_relu(x)\n",
        "        x = F.dropout(x, p=0.7, training=self.training)\n",
        "        x = self.embeddingLayer(x)\n",
        "\n",
        "        return x\n",
        "\n",
        "    if (self.mode == \"task2\"):\n",
        "        x = self.conv1(x, edge_index)\n",
        "        x = self.leaky_relu(x)\n",
        "        x = self.conv2(x, edge_index)\n",
        "        x = self.leaky_relu(x)\n",
        "        mu = self.mu(x,edge_index)\n",
        "        log_sigma = self.log_sigma(x, edge_index)\n",
        "        z = self.reparameterization(mu, log_sigma)\n",
        "        # print(f'Mu: {mu}')\n",
        "        # print(f'Sigma: {log_sigma}')\n",
        "\n",
        "        return z, mu, log_sigma"
      ],
      "execution_count": 90,
      "outputs": []
    },
    {
      "cell_type": "code",
      "metadata": {
        "colab": {
          "base_uri": "https://localhost:8080/",
          "height": 1000
        },
        "id": "3pCy-WeL74J6",
        "outputId": "a9fcf57e-a493-45d0-f9d4-3dff52645ca5"
      },
      "source": [
        "device = torch.device('cuda' if torch.cuda.is_available() else 'cpu')\n",
        "model_gnn = GraphEmbeddingNetwork(n_features=num_node_feature, hidden_channels=300, \\\n",
        "              linear_channels=128, output_channels = 64, in_heads=3, out_heads=1, mode=\"retrieval\") \\\n",
        "              .to(device)\n",
        "data_1 = data_1.to(device)\n",
        "print(model_gnn)\n",
        "\n",
        "# same loss and optimizer as before\n",
        "loss_func = torch.nn.CrossEntropyLoss()  \n",
        "optimizer = torch.optim.Adam(model_gnn.parameters(), lr=0.005, weight_decay=5e-4)\n",
        "\n",
        "def train_gnn():\n",
        "    model_gnn.train()  # set the model to training 'mode' \n",
        "    optimizer.zero_grad()  # set gradients to 0\n",
        "    out = model_gnn(data_1.x, data_1.edge_index)  # propagate the data through the model\n",
        "    loss = loss_func(out[data_1.train_mask], data_1.y[data_1.train_mask])  # compute the loss based on our training mask\n",
        "    loss.backward()  # derive gradients\n",
        "    optimizer.step()  # update all parameters based on the gradients\n",
        "    train_loss.append(loss)\n",
        "\n",
        "    return loss\n",
        "\n",
        "def test_gnn(mask):\n",
        "    model_gnn.eval()  # set the model to evaluation 'mode' \n",
        "    out = model_gnn(data_1.x, data_1.edge_index)  # propagate the data through the model\n",
        "    pred = out.argmax(dim=1)  # as prediction, we take the class with the highest probability\n",
        "    test_correct = pred[mask] == data_1.y[mask]  # create a tensor that evaluates whether predictions were correct\n",
        "    test_acc = int(test_correct.sum()) / int(mask.sum())  # get the accuracy\n",
        "\n",
        "    return test_acc\n",
        "\n",
        "train_accs, train_loss = [], []\n",
        "test_accs, test_loss = [], []\n",
        "\n",
        "epochs = 50\n",
        "\n",
        "for epoch in range(1, epochs+1): \n",
        "    loss = train_gnn()  # do one training step over the entire dataset\n",
        "    train_acc = test_gnn(data_1.train_mask)  # compute the training accuracy\n",
        "    test_acc = test_gnn(data_1.test_mask)  # compute the test accuracy\n",
        "    if (epoch % 10) == 0:\n",
        "        print(f'Epoch: {epoch:03d}, Loss: {loss:.4f}, Train Acc: {train_acc:.4f}, Test Acc: {test_acc:.4f}')\n",
        "    train_accs.append(train_acc)  # save accuracies so we can plot them\n",
        "    test_accs.append(test_acc)\n",
        "%matplotlib inline\n",
        "import matplotlib.pyplot as plt\n",
        "\n",
        "def plot_train(train_accs, test_accs=None, context=\"train\"):\n",
        "    \n",
        "    fig, ax = plt.subplots(figsize=(8,6))\n",
        "    fnt=16\n",
        "    if (context == \"train\"):\n",
        "      ax.plot(train_accs, color='blue', label='Train')\n",
        "      ax.plot(test_accs, color='red', linestyle='--', label='Test')\n",
        "      ax.set_ylabel('Accuracy', fontsize=fnt)\n",
        "    else:\n",
        "      ax.plot(train_accs, color='blue', label='Train Loss')\n",
        "      ax.set_ylabel('Loss', fontsize=fnt)\n",
        "    ax.legend(fontsize=fnt)\n",
        "    ax.tick_params(axis='both', labelsize=fnt)\n",
        "    ax.set_xlabel('Epoch', fontsize=fnt)\n",
        "    \n",
        "plot_train(train_accs,test_accs,context=\"train\")\n",
        "plot_train(train_loss,context=\"loss\")"
      ],
      "execution_count": 91,
      "outputs": [
        {
          "output_type": "stream",
          "text": [
            "GraphEmbeddingNetwork(\n",
            "  (conv1): GATConv(300, 300, heads=3)\n",
            "  (conv2): GATConv(900, 128, heads=1)\n",
            "  (embeddingLayer): Linear(in_features=128, out_features=128, bias=True)\n",
            "  (mu): GATConv(128, 64, heads=1)\n",
            "  (log_sigma): GATConv(128, 64, heads=1)\n",
            "  (leaky_relu): LeakyReLU(negative_slope=0.01)\n",
            "  (batch_norm1): BatchNorm1d(900, eps=1e-05, momentum=0.1, affine=True, track_running_stats=True)\n",
            "  (batch_norm2): BatchNorm1d(128, eps=1e-05, momentum=0.1, affine=True, track_running_stats=True)\n",
            ")\n",
            "Epoch: 010, Loss: 1.1815, Train Acc: 0.6609, Test Acc: 0.6071\n",
            "Epoch: 020, Loss: 0.6750, Train Acc: 0.7337, Test Acc: 0.6485\n",
            "Epoch: 030, Loss: 0.4865, Train Acc: 0.8218, Test Acc: 0.7225\n",
            "Epoch: 040, Loss: 0.3876, Train Acc: 0.8985, Test Acc: 0.7629\n",
            "Epoch: 050, Loss: 0.3093, Train Acc: 0.9349, Test Acc: 0.7646\n"
          ],
          "name": "stdout"
        },
        {
          "output_type": "display_data",
          "data": {
            "image/png": "[encoded data removed]",
            "text/plain": [
              "<Figure size 576x432 with 1 Axes>"
            ]
          },
          "metadata": {
            "tags": [],
            "needs_background": "light"
          }
        },
        {
          "output_type": "display_data",
          "data": {
            "image/png": "[encoded data removed]",
            "text/plain": [
              "<Figure size 576x432 with 1 Axes>"
            ]
          },
          "metadata": {
            "tags": [],
            "needs_background": "light"
          }
        }
      ]
    },
    {
      "cell_type": "code",
      "metadata": {
        "id": "SfpFwrP_crNQ"
      },
      "source": [
        "def gatherEmbeddings(raw_embeddings):\n",
        "  emb = []\n",
        "  for node in range(num_node):\n",
        "    emb.append(raw_embeddings[node])\n",
        "  return emb"
      ],
      "execution_count": 92,
      "outputs": []
    },
    {
      "cell_type": "code",
      "metadata": {
        "colab": {
          "base_uri": "https://localhost:8080/"
        },
        "id": "fuhLOzD_swxl",
        "outputId": "daab2467-9b9e-4b99-84ee-79e9cdb362fd"
      },
      "source": [
        "from torch.nn import CosineSimilarity\n",
        "\n",
        "model_gnn.eval()\n",
        "\n",
        "#kNearest articles\n",
        "def kNearestArticles(model,qArticle, topk=5):\n",
        "  distance_measure = CosineSimilarity(dim=1, eps=1e-6)\n",
        "  \n",
        "  topk += 1\n",
        "  calculated_distances = []\n",
        "  with torch.no_grad():\n",
        "    extracted_embeddings = model(data_1.x, data_1.edge_index) #extract the embeddings of all the articles\n",
        "  qArticle_embedding = extracted_embeddings[qArticle] #keep the query article in a seperate embedding\n",
        "\n",
        "  articleList = gatherEmbeddings(extracted_embeddings)\n",
        "  for candidateArticle in articleList: # foreach pair of <query,candidate> calculate their similarity\n",
        "    similarity = distance_measure(qArticle_embedding.unsqueeze(0), candidateArticle.unsqueeze(0))\n",
        "    calculated_distances.append(similarity.data.cpu().numpy())\n",
        "\n",
        "  calculated_distances = np.argsort(np.array(calculated_distances).flatten()) # sort the calculated similarities\n",
        "\n",
        "  calculated_distances = calculated_distances[-topk:] # reversal of the list to have a descendig order of similarity\n",
        "  \n",
        "  print_node(qArticle, query_node=True) # Just print the top-5\n",
        "  for i,idx in enumerate(calculated_distances):\n",
        "    if (idx != qArticle):\n",
        "      print_node(idx)\n",
        "\n",
        "# Nodes 1210, 2966, 5912, 3478, 7692, 84 are good for showing that the model can learn the context of each article\n",
        "kNearestArticles(model_gnn,qArticle=1210,topk=5)\n",
        "  "
      ],
      "execution_count": 93,
      "outputs": [
        {
          "output_type": "stream",
          "text": [
            "--Node 1210--\n",
            "*****Query Article*****\n",
            "https://en.wikipedia.org/wiki/JFugue\n",
            "Label: Programming language topics\n",
            "\n",
            "--Node 10142--\n",
            "https://en.wikipedia.org/wiki/POV-Ray\n",
            "Label: Programming language topics\n",
            "\n",
            "--Node 9419--\n",
            "https://en.wikipedia.org/wiki/Presentation_semantics\n",
            "Label: Programming language topics\n",
            "\n",
            "--Node 1390--\n",
            "https://en.wikipedia.org/wiki/Extempore_(software)\n",
            "Label: Programming language topics\n",
            "\n",
            "--Node 10321--\n",
            "https://en.wikipedia.org/wiki/JMusic\n",
            "Label: Programming language topics\n",
            "\n",
            "--Node 791--\n",
            "https://en.wikipedia.org/wiki/Nyquist_(programming_language)\n",
            "Label: Programming language topics\n",
            "\n"
          ],
          "name": "stdout"
        }
      ]
    },
    {
      "cell_type": "markdown",
      "metadata": {
        "id": "n-VtEksc1fCt"
      },
      "source": [
        "# Task 2"
      ]
    },
    {
      "cell_type": "code",
      "metadata": {
        "id": "_-TRngWF1ggw"
      },
      "source": [
        "## Build the anomaly detection model ##"
      ],
      "execution_count": 94,
      "outputs": []
    },
    {
      "cell_type": "code",
      "metadata": {
        "id": "_ee8w-ZC1jJD"
      },
      "source": [
        "## Download the anomaly evaluation data ##\n",
        "data_2 = download('https://surfdrive.surf.nl/files/index.php/s/EzMkh3SZbsbJb2i/download', filetype='tensor')\n",
        "is_anomaly = download('https://surfdrive.surf.nl/files/index.php/s/wrK5xipcIC9DHhu/download', filetype='pickle')"
      ],
      "execution_count": 95,
      "outputs": []
    },
    {
      "cell_type": "code",
      "metadata": {
        "colab": {
          "base_uri": "https://localhost:8080/"
        },
        "id": "IXVaLNjF-mFi",
        "outputId": "047b4862-e566-443a-a4ff-407bab116fb3"
      },
      "source": [
        "total_node = data_2.x.shape[0]\n",
        "total_edge = data_2.edge_index.shape[1]\n",
        "new_node = total_node - num_node\n",
        "new_edge = total_edge - num_edge\n",
        "print(f'Num new nodes: {new_node}')\n",
        "print(f'Num new edges: {new_edge}')"
      ],
      "execution_count": 96,
      "outputs": [
        {
          "output_type": "stream",
          "text": [
            "Num new nodes: 2000\n",
            "Num new edges: 50176\n"
          ],
          "name": "stdout"
        }
      ]
    },
    {
      "cell_type": "code",
      "metadata": {
        "colab": {
          "base_uri": "https://localhost:8080/"
        },
        "id": "8mVXRMxPA_oQ",
        "outputId": "659b5796-b98b-4ff4-b779-78fb2bc6a3c5"
      },
      "source": [
        "print(f'Indices of new nodes are {num_node}...{total_node-1}')\n",
        "print('The first 1000 are real articles, the last 1000 are anomaly articles')\n",
        "print('You can use the map \"is_anomaly\" to identify whether a node is an anomaly or not')\n",
        "e_real = num_node+500\n",
        "e_anomaly = num_node+1500\n",
        "print(f'E.g., is_anomaly[{e_real}] = {is_anomaly[e_real]} and is_anomaly[{e_anomaly}] = {is_anomaly[e_anomaly]}')"
      ],
      "execution_count": 97,
      "outputs": [
        {
          "output_type": "stream",
          "text": [
            "Indices of new nodes are 10701...12700\n",
            "The first 1000 are real articles, the last 1000 are anomaly articles\n",
            "You can use the map \"is_anomaly\" to identify whether a node is an anomaly or not\n",
            "E.g., is_anomaly[11201] = 0 and is_anomaly[12201] = 1\n"
          ],
          "name": "stdout"
        }
      ]
    },
    {
      "cell_type": "code",
      "metadata": {
        "id": "XYKp503O1hU_"
      },
      "source": [
        "class GVAE(torch.nn.Module):\n",
        "    def __init__(self, encoder, decoder):\n",
        "        super(GVAE, self).__init__()\n",
        "        self.encoder = encoder\n",
        "        self.decoder = decoder\n",
        "                \n",
        "    def forward(self, x, edge_index):\n",
        "        z, mu, log_sigma = self.encoder(x, edge_index)\n",
        "        x_reconstr = self.decoder(z, edge_index)\n",
        "        \n",
        "        return x_reconstr, mu, log_sigma"
      ],
      "execution_count": 98,
      "outputs": []
    },
    {
      "cell_type": "code",
      "metadata": {
        "id": "fGDomwdlzyto"
      },
      "source": [
        "def loss_function(x, x_reconstr, mu, log_sigma):\n",
        "    reconstr_loss = F.mse_loss(x_reconstr, x, reduction='sum')\n",
        "    kl_loss = 0.5 * torch.sum(mu.pow(2) + (2*log_sigma).exp() - 2*log_sigma - 1)\n",
        "    total_loss = reconstr_loss + kl_loss\n",
        "    return total_loss, reconstr_loss, kl_loss\n"
      ],
      "execution_count": 99,
      "outputs": []
    },
    {
      "cell_type": "code",
      "metadata": {
        "id": "JpRAVdZ-593L"
      },
      "source": [
        "class GraphEmbeddingEncoder(torch.nn.Module):\n",
        "  def __init__(self, n_features, hidden_channels, output_channels):\n",
        "      super(GraphEmbeddingEncoder, self).__init__()\n",
        "      \n",
        "      \n",
        "      self.conv1 = SAGEConv(n_features, hidden_channels)\n",
        "      self.conv2 = SAGEConv(hidden_channels, hidden_channels)\n",
        "\n",
        "      self.mu = SAGEConv(hidden_channels, output_channels)\n",
        "      self.log_sigma = SAGEConv(hidden_channels, output_channels)\n",
        "\n",
        "      self.leaky_relu = LeakyReLU()\n",
        "\n",
        "  def reparameterization(self, mu, log_sigma):\n",
        "    sigma = torch.exp(log_sigma)\n",
        "    epsilon = torch.rand_like(sigma).to(device)\n",
        "    z = mu + sigma * epsilon\n",
        "    # print(z.size())\n",
        "    return z\n",
        "\n",
        "  def forward(self, x, edge_index):\n",
        "    x = self.conv1(x, edge_index)\n",
        "    x = self.leaky_relu(x)\n",
        "    x = self.conv2(x, edge_index)\n",
        "    x = self.leaky_relu(x)\n",
        "    mu = self.mu(x,edge_index)\n",
        "    log_sigma = self.log_sigma(x, edge_index)\n",
        "    z = self.reparameterization(mu, log_sigma)\n",
        "    return z, mu, log_sigma\n",
        "\n",
        "\n"
      ],
      "execution_count": 100,
      "outputs": []
    },
    {
      "cell_type": "code",
      "metadata": {
        "id": "aeWT0K0g58zI"
      },
      "source": [
        "class GraphEmbeddingDecoder(torch.nn.Module):\n",
        "  def __init__(self, z_size, hidden_channels, output_channels):\n",
        "      super(GraphEmbeddingDecoder, self).__init__()\n",
        "      \n",
        "      self.conv1 = SAGEConv(z_size, hidden_channels)\n",
        "      self.conv2 = SAGEConv(hidden_channels, output_channels)\n",
        "      self.conv3 = SAGEConv(output_channels,output_channels)\n",
        "\n",
        "      self.leaky_relu = LeakyReLU()\n",
        "\n",
        "  def forward(self, x, edge_index):\n",
        "      x = self.conv1(x, edge_index)\n",
        "      x = self.leaky_relu(x)\n",
        "      x = self.conv2(x, edge_index)\n",
        "      x = self.leaky_relu(x)\n",
        "      x = self.conv3(x,edge_index)\n",
        "\n",
        "      return x"
      ],
      "execution_count": 101,
      "outputs": []
    },
    {
      "cell_type": "code",
      "metadata": {
        "id": "px8I-7NFhC25"
      },
      "source": [
        "from torch_geometric.nn import VGAE\n",
        "\n",
        "HIDDEN_CHANNELS = 300\n",
        "OUTPUT_CHANNELS = 64\n",
        "\n",
        "encoder = GraphEmbeddingEncoder(n_features=num_node_feature, hidden_channels=HIDDEN_CHANNELS, \\\n",
        "               output_channels=OUTPUT_CHANNELS) \\\n",
        "              .to(device)\n",
        "decoder = GraphEmbeddingDecoder(z_size=OUTPUT_CHANNELS, hidden_channels=HIDDEN_CHANNELS, \\\n",
        "               output_channels = num_node_feature) \\\n",
        "              .to(device)\n",
        "\n",
        "gvae = GVAE(encoder=encoder, decoder=decoder)"
      ],
      "execution_count": 102,
      "outputs": []
    },
    {
      "cell_type": "code",
      "metadata": {
        "colab": {
          "base_uri": "https://localhost:8080/"
        },
        "id": "hybtJwmZKRZQ",
        "outputId": "cdcd2517-9919-4434-9f1d-a9d4d6f820a6"
      },
      "source": [
        "device = torch.device('cuda' if torch.cuda.is_available() else 'cpu')\n",
        "gvae = gvae.to(device)\n",
        "print(gvae)\n",
        "\n",
        "optimizer = torch.optim.Adam(gvae.parameters(), lr=0.005, weight_decay=5e-4)\n",
        "\n",
        "def train_vae():\n",
        "    gvae.train() \n",
        "    optimizer.zero_grad() \n",
        "\n",
        "    z, mu, log_sigma = gvae(data_1.x, data_1.edge_index)\n",
        "    agg_loss, rec_loss, kl_loss = loss_function(data_1.x, z, mu, log_sigma)\n",
        "    \n",
        "    \n",
        "    agg_loss.backward() \n",
        "    optimizer.step() \n",
        "    # total_loss.append(agg_loss)\n",
        "\n",
        "    return agg_loss, rec_loss, kl_loss\n",
        "\n",
        "total_tot_loss = []\n",
        "total_rec_loss, total_kl_loss = [], []\n",
        "\n",
        "epochs = 50\n",
        "\n",
        "for epoch in range(1, epochs+1): \n",
        "    tot_loss, rec_loss, kl_loss,  = train_vae()\n",
        "    total_tot_loss.append(tot_loss)\n",
        "    total_rec_loss.append(rec_loss)\n",
        "    total_kl_loss.append(kl_loss)\n",
        "    if (epoch % 10) == 0:\n",
        "        print(f'Epoch: {epoch:03d}, Total Loss: {tot_loss/num_node:.4f}, Reconstruction Loss: {rec_loss/num_node:.4f}, KL_Loss: {kl_loss/num_node:.4f}')\n"
      ],
      "execution_count": 103,
      "outputs": [
        {
          "output_type": "stream",
          "text": [
            "GVAE(\n",
            "  (encoder): GraphEmbeddingEncoder(\n",
            "    (conv1): SAGEConv(300, 300)\n",
            "    (conv2): SAGEConv(300, 300)\n",
            "    (mu): SAGEConv(300, 64)\n",
            "    (log_sigma): SAGEConv(300, 64)\n",
            "    (leaky_relu): LeakyReLU(negative_slope=0.01)\n",
            "  )\n",
            "  (decoder): GraphEmbeddingDecoder(\n",
            "    (conv1): SAGEConv(64, 300)\n",
            "    (conv2): SAGEConv(300, 300)\n",
            "    (conv3): SAGEConv(300, 300)\n",
            "    (leaky_relu): LeakyReLU(negative_slope=0.01)\n",
            "  )\n",
            ")\n",
            "Epoch: 010, Total Loss: 3.6722, Reconstruction Loss: 3.5441, KL_Loss: 0.1280\n",
            "Epoch: 020, Total Loss: 2.0569, Reconstruction Loss: 2.0210, KL_Loss: 0.0359\n",
            "Epoch: 030, Total Loss: 1.9138, Reconstruction Loss: 1.9007, KL_Loss: 0.0131\n",
            "Epoch: 040, Total Loss: 1.8632, Reconstruction Loss: 1.8513, KL_Loss: 0.0120\n",
            "Epoch: 050, Total Loss: 1.8373, Reconstruction Loss: 1.8241, KL_Loss: 0.0132\n"
          ],
          "name": "stdout"
        }
      ]
    },
    {
      "cell_type": "code",
      "metadata": {
        "id": "wzWb42RX1myv"
      },
      "source": [
        "def elbo_elementwise(x, x_reconstr, mu, log_sigma):\n",
        "    reconstr_loss = torch.sum(F.mse_loss(x_reconstr, x, reduction='none'))\n",
        "    constant_term = OUTPUT_CHANNELS * 0.5 * np.log(np.pi)\n",
        "    kl_loss = 0.5 * torch.sum(mu.pow(2) + (2*log_sigma).exp() - 2*log_sigma - 1)\n",
        "    elbo = - reconstr_loss - constant_term - kl_loss\n",
        "    return elbo, reconstr_loss, kl_loss"
      ],
      "execution_count": 104,
      "outputs": []
    },
    {
      "cell_type": "code",
      "metadata": {
        "id": "3VhB6XUkhelV"
      },
      "source": [
        "x_original_list_normal = []\n",
        "x_reconstr_list_normal = []\n",
        "elbos_normal = []\n",
        "x_original_list_anomaly = []\n",
        "x_reconstr_list_anomaly = []\n",
        "elbos_anomaly = []\n",
        "\n",
        "gvae.eval()\n",
        "with torch.no_grad():\n",
        "    data_2.to(device)\n",
        "    \n",
        "    z, mu, log_sigma = gvae(data_2.x, data_2.edge_index) # Propagate the test data through the network\n",
        "    \n",
        "    for i in range(num_node, total_node): #take into account only the newly added articles\n",
        "\n",
        "      elbo, reconstr_loss, kl_loss = elbo_elementwise(data_2.x[i], z[i], mu[i], log_sigma[i]) #calculate the elbo, rec_loss and kl_loss \n",
        "                                                                                              #as shown in the practical\n",
        "      if (is_anomaly[i] == 0):\n",
        "        x_original_list_normal.append(data_2.x[i])\n",
        "        x_reconstr_list_normal.append(z[i])\n",
        "        elbos_normal.append(elbo.item())\n",
        "      if (is_anomaly[i] == 1):\n",
        "        x_original_list_anomaly.append(data_2.x[i])\n",
        "        x_reconstr_list_anomaly.append(z[i])\n",
        "        elbos_anomaly.append(elbo.item())\n"
      ],
      "execution_count": 105,
      "outputs": []
    },
    {
      "cell_type": "code",
      "metadata": {
        "colab": {
          "base_uri": "https://localhost:8080/",
          "height": 541
        },
        "id": "3e-ysmkOuIam",
        "outputId": "9c201c7f-fb48-4636-b4f0-788573724c3c"
      },
      "source": [
        "import seaborn as sns\n",
        "def density_histogram(neg, pos, bins=30, alpha=0.4):\n",
        "    plt.figure()\n",
        "    plt.hist(neg, bins=bins, density=True, histtype=\"bar\", color=\"g\", alpha=alpha)\n",
        "    plt.hist(neg, bins=bins, density=True, histtype=\"step\", color=\"g\", alpha=1)\n",
        "    plt.hist(pos, bins=bins, density=True, histtype=\"bar\", color=\"r\", alpha=alpha)\n",
        "    plt.hist(pos, bins=bins, density=True, histtype=\"step\", color=\"r\", alpha=1)\n",
        "    plt.xlabel(\"ELBO value\")\n",
        "    plt.ylabel(\"Density\")\n",
        "    plt.show()\n",
        "\n",
        "\n",
        "def density_plot(neg, pos):\n",
        "    plt.figure()\n",
        "    sns.kdeplot(neg, shade=True, color=\"g\")\n",
        "    sns.kdeplot(pos, shade=True, color=\"r\")\n",
        "    plt.xlabel(\"ELBO value\")\n",
        "    plt.ylabel(\"Density\")\n",
        "\n",
        "density_histogram(elbos_normal, elbos_anomaly)\n",
        "density_plot(elbos_normal, elbos_anomaly)"
      ],
      "execution_count": 106,
      "outputs": [
        {
          "output_type": "display_data",
          "data": {
            "image/png": "[encoded data removed]",
            "text/plain": [
              "<Figure size 432x288 with 1 Axes>"
            ]
          },
          "metadata": {
            "tags": [],
            "needs_background": "light"
          }
        },
        {
          "output_type": "display_data",
          "data": {
            "image/png": "[encoded data removed]",
            "text/plain": [
              "<Figure size 432x288 with 1 Axes>"
            ]
          },
          "metadata": {
            "tags": [],
            "needs_background": "light"
          }
        }
      ]
    },
    {
      "cell_type": "code",
      "metadata": {
        "colab": {
          "base_uri": "https://localhost:8080/",
          "height": 683
        },
        "id": "eE6acJj2RG0O",
        "outputId": "e2a15c38-9aa5-4e63-fb21-2c326d235252"
      },
      "source": [
        "from sklearn.metrics import roc_curve, precision_recall_curve, auc\n",
        "\n",
        "def roc_pr_curves(neg, pos):\n",
        "    # translate to scores from 0 to 1, where 1 means anomaly (low ELBO) and 0 means normal (high ELBO)\n",
        "    min_val = min(np.min(neg), np.min(pos))\n",
        "    max_val = max(np.max(neg), np.max(pos))\n",
        "    y_true_neg = np.zeros(len(neg))\n",
        "    y_true_pos = np.ones(len(pos))\n",
        "    y_true = np.concatenate((y_true_neg, y_true_pos))\n",
        "    y_score = (max_val - np.concatenate((neg, pos))) / (max_val - min_val)\n",
        "\n",
        "    # get ROC curve values\n",
        "    fpr, tpr, _ = roc_curve(y_true, y_score, drop_intermediate=True)\n",
        "    auroc = auc(fpr, tpr)\n",
        "\n",
        "    # plot ROC curve\n",
        "    lw = 2\n",
        "    plt.figure(figsize=(5, 5))\n",
        "    plt.plot(fpr, tpr, color='darkorange',\n",
        "             lw=lw, label='ROC curve (AUC = %0.2f)' % auroc)\n",
        "    plt.plot([0, 1], [0, 1], color='navy', lw=lw, linestyle='--')\n",
        "    plt.xlim([0.0, 1.0])\n",
        "    plt.ylim([0.0, 1.0])\n",
        "    plt.xlabel('False Positive Rate')\n",
        "    plt.ylabel('True Positive Rate')\n",
        "    plt.title('Receiver Operating Characteristic')\n",
        "    plt.legend(loc=\"lower right\")\n",
        "    plt.show()\n",
        "    \n",
        "    # get Precision-Recall values\n",
        "    precision, recall, _ = precision_recall_curve(y_true, y_score)\n",
        "    auprc = auc(recall, precision)\n",
        "\n",
        "    # plot Precision-Recall curve\n",
        "    no_skill = len(y_true[y_true==1]) / len(y_true)\n",
        "    plt.figure(figsize=(5, 5))\n",
        "    plt.plot([0, 1], [no_skill, no_skill], color=\"navy\", lw=lw, linestyle='--')\n",
        "    plt.plot(recall, precision, color='darkorange',\n",
        "             lw=lw, label=\"PR curve (AUC= %0.2f)\" % auprc)\n",
        "    plt.xlabel('Recall')\n",
        "    plt.ylabel('Precision')\n",
        "    plt.title(\"Precision-Recall Curve\")\n",
        "    plt.legend(loc=\"upper right\")\n",
        "    plt.show()\n",
        "\n",
        "roc_pr_curves(elbos_normal, elbos_anomaly)"
      ],
      "execution_count": 107,
      "outputs": [
        {
          "output_type": "display_data",
          "data": {
            "image/png": "[encoded data removed]",
            "text/plain": [
              "<Figure size 360x360 with 1 Axes>"
            ]
          },
          "metadata": {
            "tags": [],
            "needs_background": "light"
          }
        },
        {
          "output_type": "display_data",
          "data": {
            "image/png": "[encoded data removed]",
            "text/plain": [
              "<Figure size 360x360 with 1 Axes>"
            ]
          },
          "metadata": {
            "tags": [],
            "needs_background": "light"
          }
        }
      ]
    }
  ]
}